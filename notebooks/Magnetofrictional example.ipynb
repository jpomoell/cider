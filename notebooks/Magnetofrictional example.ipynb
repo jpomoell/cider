{
 "cells": [
  {
   "cell_type": "markdown",
   "id": "6139a11d-9962-423b-81e9-05f56cf554f6",
   "metadata": {},
   "source": [
    "# *Computing a MFW coronal model*\n",
    "***"
   ]
  },
  {
   "cell_type": "markdown",
   "id": "3a13cf77-f7d2-445e-9757-591a8edf11ac",
   "metadata": {},
   "source": [
    "The magnetofrictional wind (MFW) model computes the coronal magnetic field by assuming\n",
    "\n",
    "\\begin{eqnarray}\n",
    "\\mathbf{B} = f \\nabla u\n",
    "\\end{eqnarray}\n",
    "\n",
    "where the scalar function $f = f(r)$ is related to a given solar wind radial outflow speed $\\mathbf{v}_\\mathrm{sw} = v_r(r) \\, \\mathbf{e}_r$ by\n",
    "\n",
    "\\begin{eqnarray}\n",
    "v_r = \\frac{1}{\\nu_0} \\frac{1}{f} \\frac{df}{dr}\n",
    "\\end{eqnarray}\n",
    "\n",
    "where $\\nu_0$ is a constant. The resulting magnetic field is an equilibirum solution of Faraday's law, i.e. $\\mathbf{v} \\times \\mathbf{B} = 0$ where the total flow velocity is given by $\\mathbf{v} = \\mathbf{v}_\\mathrm{MF} + \\mathbf{v}_\\mathrm{sw}$ with $\\mathbf{v}_\\mathrm{MF}$ the magnetofriction velocity\n",
    "\n",
    "\\begin{eqnarray}\n",
    "\\mathbf{v}_\\mathrm{MF} = \\frac{1}{\\nu_0} \\frac{\\mu_0 \\mathbf{J} \\times \\mathbf{B}}{B^2} \n",
    "\\end{eqnarray}\n",
    "\n",
    "Thus, in the low corona where $v_\\mathrm{sw}$ is small, a nearly force-free magnetic field is obtained, whereas in the upper corona the solution is dominated by the outflow. Unlike the PFSS model, the magnetic field carries a current throughout the domain, and is given by\n",
    "\n",
    "\\begin{eqnarray}\n",
    "\\mu_0 \\mathbf{J} = \\frac{1}{f} (\\nabla f) \\times \\mathbf{B}\n",
    "\\end{eqnarray}\n",
    "\n",
    "Thus, with $f=f(r)$ the radial current $J_r = 0$ throughout."
   ]
  },
  {
   "cell_type": "code",
   "execution_count": null,
   "id": "27737642-a6e2-4d5b-82b8-fec274e0df9c",
   "metadata": {},
   "outputs": [],
   "source": [
    "import numpy as np\n",
    "import scipy.constants as constants\n",
    "import matplotlib.pyplot as plt"
   ]
  },
  {
   "cell_type": "code",
   "execution_count": null,
   "id": "3b90ff77-13e9-4597-b90d-c3a015882690",
   "metadata": {},
   "outputs": [],
   "source": [
    "import sunpy"
   ]
  },
  {
   "cell_type": "code",
   "execution_count": null,
   "id": "4fdc5be3-874a-4b47-be15-62139f02dd46",
   "metadata": {},
   "outputs": [],
   "source": [
    "import pysmsh\n",
    "import cider"
   ]
  },
  {
   "cell_type": "markdown",
   "id": "c6f17a0a-e296-44b6-953c-2a551cb2fe7d",
   "metadata": {},
   "source": [
    "### Load magnetogram & process"
   ]
  },
  {
   "cell_type": "markdown",
   "id": "46a9452b-0cfe-485c-a03b-07ac55786a6e",
   "metadata": {},
   "source": [
    "Load a HMI synchronic magnetogram"
   ]
  },
  {
   "cell_type": "code",
   "execution_count": null,
   "id": "c82b05a0-8af7-44b7-8c2a-47db0c406de6",
   "metadata": {},
   "outputs": [],
   "source": [
    "import cider.magnetogram.hmi"
   ]
  },
  {
   "cell_type": "code",
   "execution_count": null,
   "id": "cdc27f48-b455-4501-a70e-d9c0bb6d52ff",
   "metadata": {},
   "outputs": [],
   "source": [
    "magnetogram_file = \"../data/hmi.mrdailysynframe_polfil_720s.20211009_120000_TAI.Mr_polfil.fits\""
   ]
  },
  {
   "cell_type": "code",
   "execution_count": null,
   "id": "cc4d976b-3d66-44dc-93c8-02891705d4ae",
   "metadata": {},
   "outputs": [],
   "source": [
    "raw_magnetogram = cider.magnetogram.hmi.read_hmi_daily_synframe(magnetogram_file)"
   ]
  },
  {
   "cell_type": "markdown",
   "id": "019f15ea-7817-4771-a567-eb204d1eef54",
   "metadata": {},
   "source": [
    "Remap to a uniform lon-lat grid which is required by the solver"
   ]
  },
  {
   "cell_type": "code",
   "execution_count": null,
   "id": "27b3bcd5-2aa9-47d1-986d-82176e19aadb",
   "metadata": {},
   "outputs": [],
   "source": [
    "import cider.utils.map\n",
    "import cider.magnetogram.flux"
   ]
  },
  {
   "cell_type": "code",
   "execution_count": null,
   "id": "fb520a71-6a60-42fb-b9fc-289667f8593b",
   "metadata": {},
   "outputs": [],
   "source": [
    "# Create an empty map with the requested resolution\n",
    "uniform_map \\\n",
    "    = cider.utils.map.create_full_sun_plate_carree_map(raw_magnetogram,\n",
    "                                                       deg_per_pixel=1.0,\n",
    "                                                       frame=raw_magnetogram.coordinate_frame.name)"
   ]
  },
  {
   "cell_type": "code",
   "execution_count": null,
   "id": "ede79331-2a31-4b4d-a800-7a13193db74f",
   "metadata": {},
   "outputs": [],
   "source": [
    "remapped_magnetogram = cider.utils.map.regrid_to_grid_of_map(raw_magnetogram, uniform_map)"
   ]
  },
  {
   "cell_type": "markdown",
   "id": "0ac41951-c284-4063-afd4-81b892ca69ac",
   "metadata": {},
   "source": [
    "Balance the magnetogram"
   ]
  },
  {
   "cell_type": "code",
   "execution_count": null,
   "id": "d8ef4733-c2ac-4421-8b7b-138c7dcdd64e",
   "metadata": {},
   "outputs": [],
   "source": [
    "balanced_magnetogram = cider.magnetogram.flux.Balance().multiplicative(remapped_magnetogram)"
   ]
  },
  {
   "cell_type": "code",
   "execution_count": null,
   "id": "28b48b30-ca29-4ff0-95e5-5d7a954daddc",
   "metadata": {},
   "outputs": [],
   "source": [
    "balanced_magnetogram.peek(vmin=-50, vmax=50)"
   ]
  },
  {
   "cell_type": "markdown",
   "id": "7a7569ab-c071-481e-9d12-c00e927cd110",
   "metadata": {},
   "source": [
    "### Define the outflow profile\n",
    "\n",
    "The form of the outflow dictates the magnetic field topology."
   ]
  },
  {
   "cell_type": "markdown",
   "id": "3991a496-ce4a-40ee-986a-230e066d7e1c",
   "metadata": {},
   "source": [
    "Here we implement a simple flow profile such that\n",
    "\n",
    "\\begin{eqnarray}\n",
    "v_r = \\frac{1}{2}(v_1 + v_0) + \\frac{1}{2}(v_1 - v_0) \\tanh((r-r_1)/w)\n",
    "\\end{eqnarray}\n",
    "\n",
    "so that $v_r \\to v_1$ when $r \\to \\infty$ and $v_r(r_1) = \\frac{1}{2}(v_1 + v_0)$ at some radius $r_1$ and $v_0$ can be chosen such that the wind speed is low in the low corona.\n",
    "\n",
    "Note that in this model it is the product $\\nu_0 v_r$ that determines the wind forcing, so the effect of the wind can be additionally adjusted by varying the magnetofrictional coefficient."
   ]
  },
  {
   "cell_type": "code",
   "execution_count": null,
   "id": "e0b6839f-487e-4aab-a2d1-68d95eabb82e",
   "metadata": {},
   "outputs": [],
   "source": [
    "class HyperbolicTanFlowProfile:\n",
    "    \n",
    "    def __init__(self):\n",
    "        \n",
    "        # MF coefficient\n",
    "        # Chosen in this particular case so that the open flux is close (within a few percent) to that\n",
    "        # given by a PFSS model with the same magnetogram with a source surface radius of 2.5 RSun\n",
    "        self.nu0 = 4.5e-14\n",
    "\n",
    "        # Terminal wind speed\n",
    "        self.v1 = 500.0e3\n",
    "        \n",
    "        # Width of transition\n",
    "        self.w = 2.0*sunpy.sun.constants.radius.value\n",
    "        \n",
    "        # Radius at which the average speed is obtain\n",
    "        # In practice, if v0 is ~0, this is close to v1/2\n",
    "        self.r1 = 4.0*sunpy.sun.constants.radius.value\n",
    "         \n",
    "        # Compute wind speed shift in lower corona\n",
    "        # based on specifying a target wind speed at r=RSun\n",
    "        v_at_boundary = 1e3\n",
    "        \n",
    "        tanh = np.tanh((sunpy.sun.constants.radius.value - self.r1)/self.w)\n",
    "        \n",
    "        self.v0 = (2.0*v_at_boundary - self.v1*(1.0 + tanh))/(1.0 - tanh)\n",
    "                \n",
    "    def f(self, r):\n",
    "\n",
    "        log_tanh_term = np.log(np.tanh((r-self.r1)/self.w) + 1.0)\n",
    "\n",
    "        integral_v_dr = 0.5*r*(self.v1 + self.v0) + 0.5*(self.v1 - self.v0)*(r - self.w*log_tanh_term)\n",
    "   \n",
    "        return np.exp(self.nu0*integral_v_dr)\n",
    "\n",
    "    def vr(self, r):\n",
    "        \n",
    "        return 0.5*(self.v1 + self.v0) + 0.5*(self.v1 - self.v0)*np.tanh((r-self.r1)/self.w)\n",
    "        "
   ]
  },
  {
   "cell_type": "code",
   "execution_count": null,
   "id": "47297c26-4e8a-4c47-b655-5af2badf08a0",
   "metadata": {},
   "outputs": [],
   "source": [
    "flow = HyperbolicTanFlowProfile()"
   ]
  },
  {
   "cell_type": "code",
   "execution_count": null,
   "id": "83e6eb5f-5fdb-4ec3-b433-4ee23a94d7c1",
   "metadata": {},
   "outputs": [],
   "source": [
    "# Compute vr using a simple finite difference as a check that vr is consistent with f\n",
    "rvalues = np.linspace(1.0, 15.0, 1024)*sunpy.sun.constants.radius.value\n",
    "vr = np.zeros(len(rvalues))\n",
    "\n",
    "for i, r in enumerate(rvalues):\n",
    "\n",
    "    dr = 1.0\n",
    "    dfdr = (flow.f(r+dr) - flow.f(r-dr))/(2.0*dr)\n",
    "    \n",
    "    vr[i] = (1.0/flow.nu0)*(1.0/flow.f(r))*dfdr\n",
    "\n",
    "plt.plot(rvalues/sunpy.sun.constants.radius.value, flow.vr(rvalues)/1e3, alpha=0.5, color='r', lw=3)\n",
    "plt.plot(rvalues/sunpy.sun.constants.radius.value, vr/1e3, color='k')\n",
    "\n",
    "plt.xlabel(r\"$r$ [solar radii]\")\n",
    "plt.ylabel(r\"$v_r$ [km / s]\");"
   ]
  },
  {
   "cell_type": "code",
   "execution_count": null,
   "id": "73efe43c-3374-48ae-a8b3-d8a439a109f6",
   "metadata": {},
   "outputs": [],
   "source": []
  },
  {
   "cell_type": "markdown",
   "id": "04d010a2-a664-4b94-9f24-7d5b78d2435c",
   "metadata": {},
   "source": [
    "### Compute the model"
   ]
  },
  {
   "cell_type": "code",
   "execution_count": null,
   "id": "3f06ce3c-6848-4cdf-9d33-500454f8ad68",
   "metadata": {},
   "outputs": [],
   "source": [
    "import cider.models.mfw"
   ]
  },
  {
   "cell_type": "markdown",
   "id": "63619ed2-4cfb-4bfa-8c5c-d72777bc85bd",
   "metadata": {},
   "source": [
    "Specify the radial grid coordinates. Unlike the PFSS model, the outer boundary can be extended to the upper corona."
   ]
  },
  {
   "cell_type": "code",
   "execution_count": null,
   "id": "da0c45c8-e9e6-4f6e-8422-6da224d751ff",
   "metadata": {},
   "outputs": [],
   "source": [
    "r = np.linspace(1.0, 10.0, 2*256)*sunpy.sun.constants.radius.value"
   ]
  },
  {
   "cell_type": "code",
   "execution_count": null,
   "id": "c8f2e062-cabe-42c8-8f89-cf34ca555604",
   "metadata": {},
   "outputs": [],
   "source": [
    "# Instantiate the model\n",
    "mfw = cider.models.mfw.MagnetofrictionalWindModel(balanced_magnetogram, r, flow)"
   ]
  },
  {
   "cell_type": "code",
   "execution_count": null,
   "id": "c6d417a3-2cf2-4a48-84a2-fef746a92b2d",
   "metadata": {},
   "outputs": [],
   "source": [
    "# Compute the solution\n",
    "mfw.compute()"
   ]
  },
  {
   "cell_type": "code",
   "execution_count": null,
   "id": "b0b90ba9-f7b9-4c0b-8c8e-29cbcd5faacb",
   "metadata": {},
   "outputs": [],
   "source": [
    "# Compute the magnetic field\n",
    "magnetic_field = mfw.magnetic_field()"
   ]
  },
  {
   "cell_type": "markdown",
   "id": "f8718836-d306-4ab2-8840-4f052abfbb9b",
   "metadata": {},
   "source": [
    "Do some additional analysis: compute the divergence of the magnetic field"
   ]
  },
  {
   "cell_type": "code",
   "execution_count": null,
   "id": "de39b971-9ee1-4074-8239-c87fc8f418ec",
   "metadata": {},
   "outputs": [],
   "source": [
    "import pysmsh.difference.staggered_curvilinear as curvilinear"
   ]
  },
  {
   "cell_type": "code",
   "execution_count": null,
   "id": "035022db-8b60-4251-bf29-f024bd6fd5f9",
   "metadata": {},
   "outputs": [],
   "source": [
    "div_magnetic_field = pysmsh.Field.Scalar(mfw.mesh, \"cell_centered\")"
   ]
  },
  {
   "cell_type": "code",
   "execution_count": null,
   "id": "f2777215-e090-451a-a36b-87098309a421",
   "metadata": {},
   "outputs": [],
   "source": [
    "curvilinear.divergence(magnetic_field, div_magnetic_field, curvilinear.SphericalGeometry())"
   ]
  },
  {
   "cell_type": "markdown",
   "id": "5483c537-ad98-4664-93ed-7ffcfe7bfe25",
   "metadata": {},
   "source": [
    "Compute the current density"
   ]
  },
  {
   "cell_type": "code",
   "execution_count": null,
   "id": "caf0f954-b91b-4f57-8824-9d0a89335e64",
   "metadata": {},
   "outputs": [],
   "source": [
    "current_density = pysmsh.Field.Vector(mfw.mesh, \"edge_staggered\")"
   ]
  },
  {
   "cell_type": "code",
   "execution_count": null,
   "id": "1274c576-51c5-4a14-9e6a-ac9058e5a774",
   "metadata": {},
   "outputs": [],
   "source": [
    "curvilinear.curl(magnetic_field, current_density, curvilinear.SphericalGeometry())"
   ]
  },
  {
   "cell_type": "code",
   "execution_count": null,
   "id": "2f097494-79a6-4150-88d7-229c2b7c8cfa",
   "metadata": {},
   "outputs": [],
   "source": [
    "# Need to scale by 1/mu_0\n",
    "for d in (0, 1, 2):\n",
    "    current_density.data[d][:, :, :] *= 1.0/constants.mu_0"
   ]
  },
  {
   "cell_type": "code",
   "execution_count": null,
   "id": "074445f4-c41b-412d-b0de-d5c34d4b7ac3",
   "metadata": {},
   "outputs": [],
   "source": []
  },
  {
   "cell_type": "markdown",
   "id": "c1914c55-62ef-4868-89ae-6e24cfa27184",
   "metadata": {},
   "source": [
    "Output the cell-centered magnetic field components for external visualization"
   ]
  },
  {
   "cell_type": "code",
   "execution_count": null,
   "id": "dccc278c-f1e8-43b1-b1a0-50b9b88fa130",
   "metadata": {},
   "outputs": [],
   "source": [
    "import pyevtk.hl as evtk"
   ]
  },
  {
   "cell_type": "code",
   "execution_count": null,
   "id": "bf5e6e1a-17b2-4fc1-93af-9f2d95bfeec7",
   "metadata": {},
   "outputs": [],
   "source": [
    "B = magnetic_field\n",
    "\n",
    "evtk.gridToVTK(\"mfw\",\n",
    "               B.mesh.edges.r/sunpy.sun.constants.radius.value,\n",
    "               B.mesh.edges.clt,\n",
    "               B.mesh.edges.lon,\n",
    "               cellData={\"Br\" : 0.5*(B.data[0][1::, :, :] + B.data[0][0:-1, :, :]),\n",
    "                         \"Bt\" : 0.5*(B.data[1][:, 1::, :] + B.data[1][:, 0:-1, :]),\n",
    "                         \"Bp\" : 0.5*(B.data[2][:, :, 1::] + B.data[2][:, :, 0:-1]),\n",
    "                         \"divB\" : div_magnetic_field.data[:, :, :]\n",
    "                        }\n",
    "              )"
   ]
  },
  {
   "cell_type": "code",
   "execution_count": null,
   "id": "3427ca22-b9d7-4e78-9527-aa394f749e11",
   "metadata": {},
   "outputs": [],
   "source": []
  },
  {
   "cell_type": "markdown",
   "id": "f64102be-6364-43db-a267-7b6db78e677c",
   "metadata": {},
   "source": [
    "Compute flux balance as a function of radius"
   ]
  },
  {
   "cell_type": "code",
   "execution_count": null,
   "id": "f6ad959f-dbff-4ecb-86df-494dc38c9b1f",
   "metadata": {},
   "outputs": [],
   "source": [
    "B = magnetic_field\n",
    "\n",
    "signed_flux = np.zeros(len(B.mesh.edges.r))\n",
    "unsigned_flux = np.zeros(len(B.mesh.edges.r))\n",
    "\n",
    "for i, r in enumerate(B.mesh.edges.r):\n",
    "\n",
    "    signed_flux[i], unsigned_flux[i], area \\\n",
    "        = cider.magnetogram.flux.signed_unsigned_flux_kernel(B.data[0][i, :, :],\n",
    "                                                             B.mesh.edges.clt,\n",
    "                                                             B.mesh.edges.lon,\n",
    "                                                             r)"
   ]
  },
  {
   "cell_type": "code",
   "execution_count": null,
   "id": "809d4dbe-e7a6-498d-b160-dcdd697f2247",
   "metadata": {},
   "outputs": [],
   "source": [
    "pfss_value = 2.24e+18 # Computed elsewhere\n",
    "\n",
    "plt.plot(B.mesh.edges.r/sunpy.sun.constants.radius.value, unsigned_flux/pfss_value)\n",
    "plt.xlim(2.0, 10)\n",
    "plt.ylim(0.95, 1.2)"
   ]
  },
  {
   "cell_type": "code",
   "execution_count": null,
   "id": "4aca2ece-c145-4322-b213-a5414cc3b78a",
   "metadata": {},
   "outputs": [],
   "source": []
  }
 ],
 "metadata": {
  "kernelspec": {
   "display_name": "Python 3 (ipykernel)",
   "language": "python",
   "name": "python3"
  },
  "language_info": {
   "codemirror_mode": {
    "name": "ipython",
    "version": 3
   },
   "file_extension": ".py",
   "mimetype": "text/x-python",
   "name": "python",
   "nbconvert_exporter": "python",
   "pygments_lexer": "ipython3",
   "version": "3.9.15"
  }
 },
 "nbformat": 4,
 "nbformat_minor": 5
}
